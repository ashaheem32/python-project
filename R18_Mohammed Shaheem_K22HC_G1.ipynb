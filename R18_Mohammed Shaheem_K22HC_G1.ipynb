{
 "cells": [
  {
   "cell_type": "code",
   "execution_count": 2,
   "id": "b4a6ba91",
   "metadata": {},
   "outputs": [
    {
     "name": "stdout",
     "output_type": "stream",
     "text": [
      "{'mean': 1.0, 'std_dev': 0.0}\n"
     ]
    }
   ],
   "source": [
    "import numpy as np\n",
    "def mean(a):\n",
    "    return np.mean(a)\n",
    "def std(a):\n",
    "    return np.std(a)\n",
    "a=np.array([1,1,1])\n",
    "dicta={'mean':mean(a),'std_dev':std(a)}\n",
    "print(dicta)"
   ]
  },
  {
   "cell_type": "code",
   "execution_count": null,
   "id": "7192cd59",
   "metadata": {},
   "outputs": [],
   "source": []
  }
 ],
 "metadata": {
  "kernelspec": {
   "display_name": "Python 3 (ipykernel)",
   "language": "python",
   "name": "python3"
  },
  "language_info": {
   "codemirror_mode": {
    "name": "ipython",
    "version": 3
   },
   "file_extension": ".py",
   "mimetype": "text/x-python",
   "name": "python",
   "nbconvert_exporter": "python",
   "pygments_lexer": "ipython3",
   "version": "3.9.12"
  }
 },
 "nbformat": 4,
 "nbformat_minor": 5
}
